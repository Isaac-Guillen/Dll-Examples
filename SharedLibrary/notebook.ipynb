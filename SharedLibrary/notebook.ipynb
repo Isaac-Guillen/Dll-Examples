{
 "metadata": {
  "language_info": {
   "codemirror_mode": {
    "name": "ipython",
    "version": 3
   },
   "file_extension": ".py",
   "mimetype": "text/x-python",
   "name": "python",
   "nbconvert_exporter": "python",
   "pygments_lexer": "ipython3",
   "version": "3.8.2-final"
  },
  "orig_nbformat": 2,
  "kernelspec": {
   "name": "python_defaultSpec_1598653254377",
   "display_name": "Python 3.8.2 64-bit"
  }
 },
 "nbformat": 4,
 "nbformat_minor": 2,
 "cells": [
  {
   "cell_type": "code",
   "execution_count": 1,
   "metadata": {},
   "outputs": [],
   "source": [
    "import numpy as np\n",
    "import ctypes as cpp\n",
    "from ctypes import*\n",
    "\n",
    "dll = cpp.cdll.LoadLibrary('/home/isaac/Desktop/TestSharedLibrary2/build/libtest.so')\n",
    "dll.SayHelloToPython.argstype = None\n",
    "dll.SayHelloToPython.restype = None\n",
    "\n",
    "dll.PrintArray.argtypes = [POINTER(c_double), c_size_t]\n",
    "dll.PrintArray.restype = None\n",
    "\n",
    "def CallCPPMethod(array):\n",
    "    a = array.ctypes.data_as(POINTER(c_double))\n",
    "    dll.PrintArray(a, array.size)\n",
    "\n",
    "%qtconsole"
   ]
  },
  {
   "cell_type": "code",
   "execution_count": 6,
   "metadata": {},
   "outputs": [],
   "source": [
    "array = np.array([[[1,2,3],[3,4,5]],[[5,6,7],[7,8,9]]], dtype = np.double)"
   ]
  },
  {
   "cell_type": "code",
   "execution_count": 13,
   "metadata": {
    "tags": []
   },
   "outputs": [
    {
     "output_type": "execute_result",
     "data": {
      "text/plain": "array([[[0., 0., 0.],\n        [0., 0., 0.]],\n\n       [[0., 0., 0.],\n        [0., 0., 0.]]])"
     },
     "metadata": {},
     "execution_count": 13
    }
   ],
   "source": [
    "array3d = np.zeros((2,2,3))\n",
    "array3d"
   ]
  },
  {
   "cell_type": "code",
   "execution_count": null,
   "metadata": {},
   "outputs": [],
   "source": []
  }
 ]
}